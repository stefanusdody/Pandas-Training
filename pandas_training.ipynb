{
 "cells": [
  {
   "cell_type": "markdown",
   "id": "6cb65040",
   "metadata": {},
   "source": [
    "## Objectifitas yang ingin dicapai\n",
    "\n",
    "Menghitung kapasitas baterai tiap waktu untuk cycle ganjil dan daya baterai tiap waktunya untuk cycle genap dari data set.\n",
    "\n",
    "**keterangan kolom :**\n",
    "* time(s): Detik ke- pengukuran\n",
    "* V_m: Voltage/tegangan yang terukur tiap waktu\n",
    "* Current (A): Kuat arus terukur tiap waktu\n",
    "* Cycle: Nomor siklus charge-discharge baterai\n",
    "* Cap: Kapasitas baterai tiap waktu"
   ]
  },
  {
   "cell_type": "markdown",
   "id": "9c93a140",
   "metadata": {},
   "source": [
    "## Import Pustaka\n",
    "\n",
    "melakukan Import Pustaka pandas"
   ]
  },
  {
   "cell_type": "code",
   "execution_count": 1,
   "id": "a7b06407",
   "metadata": {},
   "outputs": [],
   "source": [
    "import pandas as pd"
   ]
  },
  {
   "cell_type": "markdown",
   "id": "7a5feed9",
   "metadata": {},
   "source": [
    "## Data Loading\n",
    "\n",
    "Melakukan loading dataset dan melakukan explorasi data sederhana"
   ]
  },
  {
   "cell_type": "code",
   "execution_count": 2,
   "id": "c7c63055",
   "metadata": {},
   "outputs": [],
   "source": [
    "# loading data\n",
    "data = pd.read_excel('NMC1-9.xlsx')"
   ]
  },
  {
   "cell_type": "code",
   "execution_count": 3,
   "id": "637e062f",
   "metadata": {},
   "outputs": [
    {
     "data": {
      "text/html": [
       "<div>\n",
       "<style scoped>\n",
       "    .dataframe tbody tr th:only-of-type {\n",
       "        vertical-align: middle;\n",
       "    }\n",
       "\n",
       "    .dataframe tbody tr th {\n",
       "        vertical-align: top;\n",
       "    }\n",
       "\n",
       "    .dataframe thead th {\n",
       "        text-align: right;\n",
       "    }\n",
       "</style>\n",
       "<table border=\"1\" class=\"dataframe\">\n",
       "  <thead>\n",
       "    <tr style=\"text-align: right;\">\n",
       "      <th></th>\n",
       "      <th>time(s)</th>\n",
       "      <th>V_m</th>\n",
       "      <th>Current (A)</th>\n",
       "      <th>Cycle</th>\n",
       "      <th>Cap</th>\n",
       "    </tr>\n",
       "  </thead>\n",
       "  <tbody>\n",
       "    <tr>\n",
       "      <th>0</th>\n",
       "      <td>0</td>\n",
       "      <td>4.098</td>\n",
       "      <td>0.997</td>\n",
       "      <td>1</td>\n",
       "      <td>2.840817</td>\n",
       "    </tr>\n",
       "    <tr>\n",
       "      <th>1</th>\n",
       "      <td>1</td>\n",
       "      <td>4.096</td>\n",
       "      <td>0.998</td>\n",
       "      <td>1</td>\n",
       "      <td>2.840817</td>\n",
       "    </tr>\n",
       "    <tr>\n",
       "      <th>2</th>\n",
       "      <td>2</td>\n",
       "      <td>4.094</td>\n",
       "      <td>0.999</td>\n",
       "      <td>1</td>\n",
       "      <td>2.840817</td>\n",
       "    </tr>\n",
       "    <tr>\n",
       "      <th>3</th>\n",
       "      <td>3</td>\n",
       "      <td>4.093</td>\n",
       "      <td>0.998</td>\n",
       "      <td>1</td>\n",
       "      <td>2.840817</td>\n",
       "    </tr>\n",
       "    <tr>\n",
       "      <th>4</th>\n",
       "      <td>4</td>\n",
       "      <td>4.092</td>\n",
       "      <td>0.999</td>\n",
       "      <td>1</td>\n",
       "      <td>2.840817</td>\n",
       "    </tr>\n",
       "    <tr>\n",
       "      <th>...</th>\n",
       "      <td>...</td>\n",
       "      <td>...</td>\n",
       "      <td>...</td>\n",
       "      <td>...</td>\n",
       "      <td>...</td>\n",
       "    </tr>\n",
       "    <tr>\n",
       "      <th>90977</th>\n",
       "      <td>90977</td>\n",
       "      <td>2.506</td>\n",
       "      <td>1.002</td>\n",
       "      <td>9</td>\n",
       "      <td>2.770180</td>\n",
       "    </tr>\n",
       "    <tr>\n",
       "      <th>90978</th>\n",
       "      <td>90978</td>\n",
       "      <td>2.504</td>\n",
       "      <td>1.002</td>\n",
       "      <td>9</td>\n",
       "      <td>2.770180</td>\n",
       "    </tr>\n",
       "    <tr>\n",
       "      <th>90979</th>\n",
       "      <td>90979</td>\n",
       "      <td>2.502</td>\n",
       "      <td>1.002</td>\n",
       "      <td>9</td>\n",
       "      <td>2.770180</td>\n",
       "    </tr>\n",
       "    <tr>\n",
       "      <th>90980</th>\n",
       "      <td>90980</td>\n",
       "      <td>2.500</td>\n",
       "      <td>1.002</td>\n",
       "      <td>9</td>\n",
       "      <td>2.770180</td>\n",
       "    </tr>\n",
       "    <tr>\n",
       "      <th>90981</th>\n",
       "      <td>90981</td>\n",
       "      <td>2.497</td>\n",
       "      <td>1.002</td>\n",
       "      <td>9</td>\n",
       "      <td>2.770180</td>\n",
       "    </tr>\n",
       "  </tbody>\n",
       "</table>\n",
       "<p>90982 rows × 5 columns</p>\n",
       "</div>"
      ],
      "text/plain": [
       "       time(s)    V_m  Current (A)  Cycle       Cap\n",
       "0            0  4.098        0.997      1  2.840817\n",
       "1            1  4.096        0.998      1  2.840817\n",
       "2            2  4.094        0.999      1  2.840817\n",
       "3            3  4.093        0.998      1  2.840817\n",
       "4            4  4.092        0.999      1  2.840817\n",
       "...        ...    ...          ...    ...       ...\n",
       "90977    90977  2.506        1.002      9  2.770180\n",
       "90978    90978  2.504        1.002      9  2.770180\n",
       "90979    90979  2.502        1.002      9  2.770180\n",
       "90980    90980  2.500        1.002      9  2.770180\n",
       "90981    90981  2.497        1.002      9  2.770180\n",
       "\n",
       "[90982 rows x 5 columns]"
      ]
     },
     "execution_count": 3,
     "metadata": {},
     "output_type": "execute_result"
    }
   ],
   "source": [
    "# melihat dataset\n",
    "data"
   ]
  },
  {
   "cell_type": "markdown",
   "id": "0a2182db",
   "metadata": {},
   "source": [
    "#### Explorasi Data"
   ]
  },
  {
   "cell_type": "code",
   "execution_count": 4,
   "id": "12394a48",
   "metadata": {},
   "outputs": [
    {
     "name": "stdout",
     "output_type": "stream",
     "text": [
      "<class 'pandas.core.frame.DataFrame'>\n",
      "RangeIndex: 90982 entries, 0 to 90981\n",
      "Data columns (total 5 columns):\n",
      " #   Column       Non-Null Count  Dtype  \n",
      "---  ------       --------------  -----  \n",
      " 0   time(s)      90982 non-null  int64  \n",
      " 1   V_m          90982 non-null  float64\n",
      " 2   Current (A)  90982 non-null  float64\n",
      " 3   Cycle        90982 non-null  int64  \n",
      " 4   Cap          90982 non-null  float64\n",
      "dtypes: float64(3), int64(2)\n",
      "memory usage: 3.5 MB\n"
     ]
    }
   ],
   "source": [
    "# melihat datatypes dan apakah terdapat missing data \n",
    "data.info()"
   ]
  },
  {
   "cell_type": "code",
   "execution_count": 5,
   "id": "c9bbc702",
   "metadata": {},
   "outputs": [
    {
     "data": {
      "text/plain": [
       "Index(['time(s)', 'V_m', 'Current (A)', 'Cycle', 'Cap'], dtype='object')"
      ]
     },
     "execution_count": 5,
     "metadata": {},
     "output_type": "execute_result"
    }
   ],
   "source": [
    "# melihat columns dataset\n",
    "data.columns"
   ]
  },
  {
   "cell_type": "code",
   "execution_count": 6,
   "id": "8018cc94",
   "metadata": {},
   "outputs": [
    {
     "data": {
      "text/html": [
       "<div>\n",
       "<style scoped>\n",
       "    .dataframe tbody tr th:only-of-type {\n",
       "        vertical-align: middle;\n",
       "    }\n",
       "\n",
       "    .dataframe tbody tr th {\n",
       "        vertical-align: top;\n",
       "    }\n",
       "\n",
       "    .dataframe thead th {\n",
       "        text-align: right;\n",
       "    }\n",
       "</style>\n",
       "<table border=\"1\" class=\"dataframe\">\n",
       "  <thead>\n",
       "    <tr style=\"text-align: right;\">\n",
       "      <th></th>\n",
       "      <th>time(s)</th>\n",
       "      <th>V_m</th>\n",
       "      <th>Current (A)</th>\n",
       "      <th>Cycle</th>\n",
       "      <th>Cap</th>\n",
       "    </tr>\n",
       "  </thead>\n",
       "  <tbody>\n",
       "    <tr>\n",
       "      <th>count</th>\n",
       "      <td>90982.000000</td>\n",
       "      <td>90982.000000</td>\n",
       "      <td>90982.000000</td>\n",
       "      <td>90982.000000</td>\n",
       "      <td>90982.000000</td>\n",
       "    </tr>\n",
       "    <tr>\n",
       "      <th>mean</th>\n",
       "      <td>45490.500000</td>\n",
       "      <td>3.607666</td>\n",
       "      <td>0.999264</td>\n",
       "      <td>4.978699</td>\n",
       "      <td>2.806214</td>\n",
       "    </tr>\n",
       "    <tr>\n",
       "      <th>std</th>\n",
       "      <td>26264.385433</td>\n",
       "      <td>0.322777</td>\n",
       "      <td>0.001997</td>\n",
       "      <td>2.582135</td>\n",
       "      <td>0.023283</td>\n",
       "    </tr>\n",
       "    <tr>\n",
       "      <th>min</th>\n",
       "      <td>0.000000</td>\n",
       "      <td>2.497000</td>\n",
       "      <td>0.993000</td>\n",
       "      <td>1.000000</td>\n",
       "      <td>2.770180</td>\n",
       "    </tr>\n",
       "    <tr>\n",
       "      <th>25%</th>\n",
       "      <td>22745.250000</td>\n",
       "      <td>3.422000</td>\n",
       "      <td>0.997000</td>\n",
       "      <td>3.000000</td>\n",
       "      <td>2.786860</td>\n",
       "    </tr>\n",
       "    <tr>\n",
       "      <th>50%</th>\n",
       "      <td>45490.500000</td>\n",
       "      <td>3.636000</td>\n",
       "      <td>0.999000</td>\n",
       "      <td>5.000000</td>\n",
       "      <td>2.804878</td>\n",
       "    </tr>\n",
       "    <tr>\n",
       "      <th>75%</th>\n",
       "      <td>68235.750000</td>\n",
       "      <td>3.868000</td>\n",
       "      <td>1.001000</td>\n",
       "      <td>7.000000</td>\n",
       "      <td>2.823520</td>\n",
       "    </tr>\n",
       "    <tr>\n",
       "      <th>max</th>\n",
       "      <td>90981.000000</td>\n",
       "      <td>4.114000</td>\n",
       "      <td>1.003000</td>\n",
       "      <td>9.000000</td>\n",
       "      <td>2.840817</td>\n",
       "    </tr>\n",
       "  </tbody>\n",
       "</table>\n",
       "</div>"
      ],
      "text/plain": [
       "            time(s)           V_m   Current (A)         Cycle           Cap\n",
       "count  90982.000000  90982.000000  90982.000000  90982.000000  90982.000000\n",
       "mean   45490.500000      3.607666      0.999264      4.978699      2.806214\n",
       "std    26264.385433      0.322777      0.001997      2.582135      0.023283\n",
       "min        0.000000      2.497000      0.993000      1.000000      2.770180\n",
       "25%    22745.250000      3.422000      0.997000      3.000000      2.786860\n",
       "50%    45490.500000      3.636000      0.999000      5.000000      2.804878\n",
       "75%    68235.750000      3.868000      1.001000      7.000000      2.823520\n",
       "max    90981.000000      4.114000      1.003000      9.000000      2.840817"
      ]
     },
     "execution_count": 6,
     "metadata": {},
     "output_type": "execute_result"
    }
   ],
   "source": [
    "# melihat statistika dasar dari data\n",
    "data.describe()"
   ]
  },
  {
   "cell_type": "code",
   "execution_count": 7,
   "id": "a9ebe0b8",
   "metadata": {},
   "outputs": [
    {
     "data": {
      "text/plain": [
       "time(s)        0\n",
       "V_m            0\n",
       "Current (A)    0\n",
       "Cycle          0\n",
       "Cap            0\n",
       "dtype: int64"
      ]
     },
     "execution_count": 7,
     "metadata": {},
     "output_type": "execute_result"
    }
   ],
   "source": [
    "# melihat apakah ada data missing\n",
    "data.isna().sum()"
   ]
  },
  {
   "cell_type": "code",
   "execution_count": 8,
   "id": "578bfa52",
   "metadata": {},
   "outputs": [
    {
     "data": {
      "text/plain": [
       "1    10237\n",
       "2    10206\n",
       "3    10175\n",
       "4    10158\n",
       "5    10107\n",
       "6    10050\n",
       "7    10041\n",
       "8    10028\n",
       "9     9980\n",
       "Name: Cycle, dtype: int64"
      ]
     },
     "execution_count": 8,
     "metadata": {},
     "output_type": "execute_result"
    }
   ],
   "source": [
    "# melihat data['Cycle']\n",
    "data['Cycle'].value_counts()"
   ]
  },
  {
   "cell_type": "markdown",
   "id": "cac823d2",
   "metadata": {},
   "source": [
    "# Answer\n",
    "\n",
    "Hitung kapasitas baterai tiap waktunya untuk cycle ganjil dan daya baterai tiap waktunya untuk cycle genap dari dataset dengan ketentuan sebagai berikut:\n",
    "\n",
    "1. Gunakan function untuk menghitung hambatan dan daya\n",
    "2. Harus menerapkan konsep looping, conditional if, dan pandas query"
   ]
  },
  {
   "cell_type": "code",
   "execution_count": 9,
   "id": "465b52dd",
   "metadata": {},
   "outputs": [
    {
     "data": {
      "text/html": [
       "<div>\n",
       "<style scoped>\n",
       "    .dataframe tbody tr th:only-of-type {\n",
       "        vertical-align: middle;\n",
       "    }\n",
       "\n",
       "    .dataframe tbody tr th {\n",
       "        vertical-align: top;\n",
       "    }\n",
       "\n",
       "    .dataframe thead th {\n",
       "        text-align: right;\n",
       "    }\n",
       "</style>\n",
       "<table border=\"1\" class=\"dataframe\">\n",
       "  <thead>\n",
       "    <tr style=\"text-align: right;\">\n",
       "      <th></th>\n",
       "      <th>time(s)</th>\n",
       "      <th>V_m</th>\n",
       "      <th>Current (A)</th>\n",
       "      <th>Cycle</th>\n",
       "      <th>Cap</th>\n",
       "    </tr>\n",
       "  </thead>\n",
       "  <tbody>\n",
       "    <tr>\n",
       "      <th>0</th>\n",
       "      <td>0</td>\n",
       "      <td>4.098</td>\n",
       "      <td>0.997</td>\n",
       "      <td>1</td>\n",
       "      <td>2.840817</td>\n",
       "    </tr>\n",
       "    <tr>\n",
       "      <th>1</th>\n",
       "      <td>1</td>\n",
       "      <td>4.096</td>\n",
       "      <td>0.998</td>\n",
       "      <td>1</td>\n",
       "      <td>2.840817</td>\n",
       "    </tr>\n",
       "    <tr>\n",
       "      <th>2</th>\n",
       "      <td>2</td>\n",
       "      <td>4.094</td>\n",
       "      <td>0.999</td>\n",
       "      <td>1</td>\n",
       "      <td>2.840817</td>\n",
       "    </tr>\n",
       "    <tr>\n",
       "      <th>3</th>\n",
       "      <td>3</td>\n",
       "      <td>4.093</td>\n",
       "      <td>0.998</td>\n",
       "      <td>1</td>\n",
       "      <td>2.840817</td>\n",
       "    </tr>\n",
       "    <tr>\n",
       "      <th>4</th>\n",
       "      <td>4</td>\n",
       "      <td>4.092</td>\n",
       "      <td>0.999</td>\n",
       "      <td>1</td>\n",
       "      <td>2.840817</td>\n",
       "    </tr>\n",
       "    <tr>\n",
       "      <th>...</th>\n",
       "      <td>...</td>\n",
       "      <td>...</td>\n",
       "      <td>...</td>\n",
       "      <td>...</td>\n",
       "      <td>...</td>\n",
       "    </tr>\n",
       "    <tr>\n",
       "      <th>90977</th>\n",
       "      <td>90977</td>\n",
       "      <td>2.506</td>\n",
       "      <td>1.002</td>\n",
       "      <td>9</td>\n",
       "      <td>2.770180</td>\n",
       "    </tr>\n",
       "    <tr>\n",
       "      <th>90978</th>\n",
       "      <td>90978</td>\n",
       "      <td>2.504</td>\n",
       "      <td>1.002</td>\n",
       "      <td>9</td>\n",
       "      <td>2.770180</td>\n",
       "    </tr>\n",
       "    <tr>\n",
       "      <th>90979</th>\n",
       "      <td>90979</td>\n",
       "      <td>2.502</td>\n",
       "      <td>1.002</td>\n",
       "      <td>9</td>\n",
       "      <td>2.770180</td>\n",
       "    </tr>\n",
       "    <tr>\n",
       "      <th>90980</th>\n",
       "      <td>90980</td>\n",
       "      <td>2.500</td>\n",
       "      <td>1.002</td>\n",
       "      <td>9</td>\n",
       "      <td>2.770180</td>\n",
       "    </tr>\n",
       "    <tr>\n",
       "      <th>90981</th>\n",
       "      <td>90981</td>\n",
       "      <td>2.497</td>\n",
       "      <td>1.002</td>\n",
       "      <td>9</td>\n",
       "      <td>2.770180</td>\n",
       "    </tr>\n",
       "  </tbody>\n",
       "</table>\n",
       "<p>50540 rows × 5 columns</p>\n",
       "</div>"
      ],
      "text/plain": [
       "       time(s)    V_m  Current (A)  Cycle       Cap\n",
       "0            0  4.098        0.997      1  2.840817\n",
       "1            1  4.096        0.998      1  2.840817\n",
       "2            2  4.094        0.999      1  2.840817\n",
       "3            3  4.093        0.998      1  2.840817\n",
       "4            4  4.092        0.999      1  2.840817\n",
       "...        ...    ...          ...    ...       ...\n",
       "90977    90977  2.506        1.002      9  2.770180\n",
       "90978    90978  2.504        1.002      9  2.770180\n",
       "90979    90979  2.502        1.002      9  2.770180\n",
       "90980    90980  2.500        1.002      9  2.770180\n",
       "90981    90981  2.497        1.002      9  2.770180\n",
       "\n",
       "[50540 rows x 5 columns]"
      ]
     },
     "execution_count": 9,
     "metadata": {},
     "output_type": "execute_result"
    }
   ],
   "source": [
    "# membuat query untuk cycle_ganjil\n",
    "cycle_ganjil = data[data['Cycle']%2!=0]\n",
    "\n",
    "# melihat query cycle_ganjil\n",
    "cycle_ganjil"
   ]
  },
  {
   "cell_type": "code",
   "execution_count": 10,
   "id": "ef6e3865",
   "metadata": {},
   "outputs": [],
   "source": [
    "# membuat function kapasitas_baterai untuk cycle_ganjil\n",
    "def kapasitas_baterai():\n",
    "    for value in cycle_ganjil:\n",
    "        if value in cycle_ganjil:\n",
    "            capacity = cycle_ganjil['V_m'] / cycle_ganjil['Current (A)']\n",
    "        return capacity"
   ]
  },
  {
   "cell_type": "code",
   "execution_count": 11,
   "id": "6888f2b2",
   "metadata": {},
   "outputs": [
    {
     "data": {
      "text/html": [
       "<div>\n",
       "<style scoped>\n",
       "    .dataframe tbody tr th:only-of-type {\n",
       "        vertical-align: middle;\n",
       "    }\n",
       "\n",
       "    .dataframe tbody tr th {\n",
       "        vertical-align: top;\n",
       "    }\n",
       "\n",
       "    .dataframe thead th {\n",
       "        text-align: right;\n",
       "    }\n",
       "</style>\n",
       "<table border=\"1\" class=\"dataframe\">\n",
       "  <thead>\n",
       "    <tr style=\"text-align: right;\">\n",
       "      <th></th>\n",
       "      <th>time(s)</th>\n",
       "      <th>V_m</th>\n",
       "      <th>Current (A)</th>\n",
       "      <th>Cycle</th>\n",
       "      <th>Cap</th>\n",
       "    </tr>\n",
       "  </thead>\n",
       "  <tbody>\n",
       "    <tr>\n",
       "      <th>10237</th>\n",
       "      <td>10237</td>\n",
       "      <td>4.111</td>\n",
       "      <td>0.993</td>\n",
       "      <td>2</td>\n",
       "      <td>2.833465</td>\n",
       "    </tr>\n",
       "    <tr>\n",
       "      <th>10238</th>\n",
       "      <td>10238</td>\n",
       "      <td>4.110</td>\n",
       "      <td>0.995</td>\n",
       "      <td>2</td>\n",
       "      <td>2.833465</td>\n",
       "    </tr>\n",
       "    <tr>\n",
       "      <th>10239</th>\n",
       "      <td>10239</td>\n",
       "      <td>4.108</td>\n",
       "      <td>0.998</td>\n",
       "      <td>2</td>\n",
       "      <td>2.833465</td>\n",
       "    </tr>\n",
       "    <tr>\n",
       "      <th>10240</th>\n",
       "      <td>10240</td>\n",
       "      <td>4.107</td>\n",
       "      <td>0.999</td>\n",
       "      <td>2</td>\n",
       "      <td>2.833465</td>\n",
       "    </tr>\n",
       "    <tr>\n",
       "      <th>10241</th>\n",
       "      <td>10241</td>\n",
       "      <td>4.107</td>\n",
       "      <td>1.001</td>\n",
       "      <td>2</td>\n",
       "      <td>2.833465</td>\n",
       "    </tr>\n",
       "    <tr>\n",
       "      <th>...</th>\n",
       "      <td>...</td>\n",
       "      <td>...</td>\n",
       "      <td>...</td>\n",
       "      <td>...</td>\n",
       "      <td>...</td>\n",
       "    </tr>\n",
       "    <tr>\n",
       "      <th>80997</th>\n",
       "      <td>80997</td>\n",
       "      <td>2.508</td>\n",
       "      <td>1.000</td>\n",
       "      <td>8</td>\n",
       "      <td>2.783342</td>\n",
       "    </tr>\n",
       "    <tr>\n",
       "      <th>80998</th>\n",
       "      <td>80998</td>\n",
       "      <td>2.505</td>\n",
       "      <td>0.999</td>\n",
       "      <td>8</td>\n",
       "      <td>2.783342</td>\n",
       "    </tr>\n",
       "    <tr>\n",
       "      <th>80999</th>\n",
       "      <td>80999</td>\n",
       "      <td>2.503</td>\n",
       "      <td>0.999</td>\n",
       "      <td>8</td>\n",
       "      <td>2.783342</td>\n",
       "    </tr>\n",
       "    <tr>\n",
       "      <th>81000</th>\n",
       "      <td>81000</td>\n",
       "      <td>2.501</td>\n",
       "      <td>0.999</td>\n",
       "      <td>8</td>\n",
       "      <td>2.783342</td>\n",
       "    </tr>\n",
       "    <tr>\n",
       "      <th>81001</th>\n",
       "      <td>81001</td>\n",
       "      <td>2.499</td>\n",
       "      <td>1.000</td>\n",
       "      <td>8</td>\n",
       "      <td>2.783342</td>\n",
       "    </tr>\n",
       "  </tbody>\n",
       "</table>\n",
       "<p>40442 rows × 5 columns</p>\n",
       "</div>"
      ],
      "text/plain": [
       "       time(s)    V_m  Current (A)  Cycle       Cap\n",
       "10237    10237  4.111        0.993      2  2.833465\n",
       "10238    10238  4.110        0.995      2  2.833465\n",
       "10239    10239  4.108        0.998      2  2.833465\n",
       "10240    10240  4.107        0.999      2  2.833465\n",
       "10241    10241  4.107        1.001      2  2.833465\n",
       "...        ...    ...          ...    ...       ...\n",
       "80997    80997  2.508        1.000      8  2.783342\n",
       "80998    80998  2.505        0.999      8  2.783342\n",
       "80999    80999  2.503        0.999      8  2.783342\n",
       "81000    81000  2.501        0.999      8  2.783342\n",
       "81001    81001  2.499        1.000      8  2.783342\n",
       "\n",
       "[40442 rows x 5 columns]"
      ]
     },
     "execution_count": 11,
     "metadata": {},
     "output_type": "execute_result"
    }
   ],
   "source": [
    "# membuat query cycle_genap\n",
    "cycle_genap = data[data['Cycle']%2==0]\n",
    "\n",
    "# melihat query cycle_genap\n",
    "cycle_genap"
   ]
  },
  {
   "cell_type": "code",
   "execution_count": 12,
   "id": "b984b465",
   "metadata": {},
   "outputs": [],
   "source": [
    "# membuat function daya_baterai tiap waktunya untuk cycle genap\n",
    "def daya_baterai():\n",
    "    for value in cycle_genap:\n",
    "        if value in cycle_genap:\n",
    "            daya = cycle_genap['V_m'] * cycle_genap['Current (A)']\n",
    "        return daya"
   ]
  },
  {
   "cell_type": "markdown",
   "id": "25ffab3b",
   "metadata": {},
   "source": [
    "# Hasil"
   ]
  },
  {
   "cell_type": "markdown",
   "id": "509bb114",
   "metadata": {},
   "source": [
    "#### Memanggil kapasitas_baterai tiap waktunya untuk cycle ganjil"
   ]
  },
  {
   "cell_type": "code",
   "execution_count": 13,
   "id": "1d15cdba",
   "metadata": {},
   "outputs": [
    {
     "data": {
      "text/plain": [
       "0        4.110331\n",
       "1        4.104208\n",
       "2        4.098098\n",
       "3        4.101202\n",
       "4        4.096096\n",
       "           ...   \n",
       "90977    2.500998\n",
       "90978    2.499002\n",
       "90979    2.497006\n",
       "90980    2.495010\n",
       "90981    2.492016\n",
       "Length: 50540, dtype: float64"
      ]
     },
     "execution_count": 13,
     "metadata": {},
     "output_type": "execute_result"
    }
   ],
   "source": [
    "# memanggil kapasitas_baterai function\n",
    "kapasitas_baterai()"
   ]
  },
  {
   "cell_type": "markdown",
   "id": "eafc3012",
   "metadata": {},
   "source": [
    "#### Memanggil daya_baterai tiap waktunya untuk cycle genap"
   ]
  },
  {
   "cell_type": "code",
   "execution_count": 14,
   "id": "f64ee6a6",
   "metadata": {},
   "outputs": [
    {
     "data": {
      "text/plain": [
       "10237    4.082223\n",
       "10238    4.089450\n",
       "10239    4.099784\n",
       "10240    4.102893\n",
       "10241    4.111107\n",
       "           ...   \n",
       "80997    2.508000\n",
       "80998    2.502495\n",
       "80999    2.500497\n",
       "81000    2.498499\n",
       "81001    2.499000\n",
       "Length: 40442, dtype: float64"
      ]
     },
     "execution_count": 14,
     "metadata": {},
     "output_type": "execute_result"
    }
   ],
   "source": [
    "# memanggil data_baterai function\n",
    "daya_baterai()"
   ]
  },
  {
   "cell_type": "code",
   "execution_count": null,
   "id": "f76c2378",
   "metadata": {},
   "outputs": [],
   "source": []
  }
 ],
 "metadata": {
  "kernelspec": {
   "display_name": "Python 3",
   "language": "python",
   "name": "python3"
  },
  "language_info": {
   "codemirror_mode": {
    "name": "ipython",
    "version": 3
   },
   "file_extension": ".py",
   "mimetype": "text/x-python",
   "name": "python",
   "nbconvert_exporter": "python",
   "pygments_lexer": "ipython3",
   "version": "3.8.5"
  }
 },
 "nbformat": 4,
 "nbformat_minor": 5
}
